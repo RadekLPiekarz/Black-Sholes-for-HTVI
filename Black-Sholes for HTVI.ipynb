{
 "cells": [
  {
   "cell_type": "markdown",
   "metadata": {},
   "source": [
    "## How to value HTVI?\n",
    "\n",
    "Transfer Pricing Guidelines (TPG) introduced the notion of hard-to-value intangibles (HTVI) and a special regime related to auditing transaction between related parties concerning such HTVI. According to OECD, the reason for these special measures is the existence of information asymmetry between the extensive information available to the taxpayer and the absence of information available to the tax administration. In my opinion this is not a 100% accurate statement, in some cases the large amount of information is available to tax inspectors rather that to taxpayer. Nevertheless, all we can do is to adapt to new rules.\n",
    "\n",
    "## Ex ante and ex post audit\n",
    "In the case of HTVI tax administration is entitled to consider ex post outcomes as presumptive evidence about the appropriateness of the ex ante pricing arrangements. In other words, tax authorities are able to audit not only transaction related to HTVI as such, but also control assumption related to this transaction (i.e. valuation assumptions such as discount factors, fundamental economics indicators etc.).\n",
    "\n",
    "## Uncertainty \n",
    "The problem with HTVI is a large uncertainty of future value of the said HTVI (hence the name HARD-TO-VALUE). This should be also reflected in the arm’s length price of transaction involving HTVI, for example in the price adjustment mechanism. If you are looking for ready-to-use solution of such problem in TPG look no further. TPG does not contain such solution. However, we can use some tools and technics of financial valuation in this respect. Let’s consider an example.\n",
    "\n",
    "## Example\n",
    "Alfa sells not yet finished HTVI to Beta for a lump-sum of 1000. Beta will develop this HTVI within 5 year. The valuation is based on DCF considering the future cash flows/cost of development and the value amounts to 1000. However, both Alfa and Beta are taking risk in this transaction:\n",
    "\n",
    " - Alfa takes risk that HTVI will be worth more than 1000 in five years,\n",
    " - Beta takes risk that HTVI will be worth less than 1000 in five years.\n",
    "\n",
    "In each case tax inspector is entitled to challenge the transaction, provided the ex post audit will prove that ex ante assumption were incorrect.\n",
    "\n",
    "However, Alfa and Beta are able to mitigate these risks trough different structuration of the transaction. The price for HTVI may be divided into two parts:\n",
    "- First payment made on transaction day (year 1),\n",
    "- Second optional payments adjusting price to market situation made in a defined year (here in year 5).\n",
    "\n",
    "The agreement between Alfa and Beta would contain a clause according to which Alfa is entitled to exercise the right to adjust the sell price of HTVI provided the value of the HTVI exceeds 1000. Such structure of transaction is similar to European options, as noted by [Llinares](https://www.nera.com/publications/archive/2011/intangible-assets-valuation-and-high-uncertainty.html). The right to adjust a price is similar to call option. Therefore we can use __Black-Scholes__ formula to value our HVTI and calculate the proper lump-sum of the first payment.\n",
    "\n",
    "## B-S model\n",
    "- The risk-free rate and volatility of the underlying are known and constant (yes, I know 😉).\n",
    "- The returns on the underlying are normally distributed (yes, I know 😉).\n",
    "\n",
    "### Input variables:\n",
    "- Current HTVI price: S (in our case 1000),\n",
    "- Strike price: X (in our case 1000),\n",
    "- Time to maturity (years): T (in our case 5 years),\n",
    "- Risk-free interest rate: r (in our case 2%),\n",
    "- Volatility: $\\sigma$ (sigma, in our case 10%, based on available data),\n",
    "- Cumulative Normal Distribution: CND.\n",
    "\n",
    "### Formulas\n",
    "The call formula is given by:\n",
    "\n",
    "$$C(S,t) = S*CND(d_1) - X*e^{-r(T - t)} * CND(d_2)$$\n",
    "\n",
    "The put formula is given by:\n",
    "$$P(S,t) = X*e^{-r(T - t)}N(-d_2) - SN(-d_1) $$\n",
    "\n",
    "where \n",
    "\n",
    "$$d_1 = \\frac{\\ln \\left(\\frac{S}{K} \\right) + \\left(r + \\frac{\\sigma^2}{2} \\right)(T - t)}{\\sigma \\sqrt{T - t}}$$ \n",
    "\n",
    "and\n",
    "\n",
    "$$d_2 = d_1 - \\sigma \\sqrt{T - t} = \\frac{\\ln \\left(\\frac{S}{K} \\right) + \\left(r - \\frac{\\sigma^2}{2}\\right)(T - t)}{\\sigma \\sqrt{T - t}}$$\n",
    "  "
   ]
  },
  {
   "cell_type": "code",
   "execution_count": 11,
   "metadata": {},
   "outputs": [],
   "source": [
    "import numpy as np\n",
    "import scipy.stats as si"
   ]
  },
  {
   "cell_type": "code",
   "execution_count": 12,
   "metadata": {},
   "outputs": [],
   "source": [
    "def call(S, X, T, r, sigma):\n",
    "    d1 = (np.log(S / X) + (r + 0.5 * sigma ** 2) * T) / (sigma * np.sqrt(T))\n",
    "    d2 = (np.log(S / X) + (r - 0.5 * sigma ** 2) * T) / (sigma * np.sqrt(T))\n",
    "    call = (S * si.norm.cdf(d1, 0.0, 1.0) - X * np.exp(-r * T) * si.norm.cdf(d2, 0.0, 1.0))\n",
    "    return call"
   ]
  },
  {
   "cell_type": "code",
   "execution_count": 8,
   "metadata": {},
   "outputs": [],
   "source": [
    "def put(S, X, T, r, sigma):\n",
    "    d1 = (np.log(S / X) + (r + 0.5 * sigma ** 2) * T) / (sigma * np.sqrt(T))\n",
    "    d2 = (np.log(S / X) + (r - 0.5 * sigma ** 2) * T) / (sigma * np.sqrt(T))\n",
    "    put = (X * np.exp(-r * T) * si.norm.cdf(-d2, 0.0, 1.0) - S * si.norm.cdf(-d1, 0.0, 1.0))\n",
    "    return put"
   ]
  },
  {
   "cell_type": "code",
   "execution_count": 18,
   "metadata": {},
   "outputs": [
    {
     "data": {
      "text/plain": [
       "140.6629277737204"
      ]
     },
     "execution_count": 18,
     "metadata": {},
     "output_type": "execute_result"
    }
   ],
   "source": [
    "call(1000, 1000, 5, 0.02, 0.1)"
   ]
  },
  {
   "cell_type": "markdown",
   "metadata": {},
   "source": [
    "## Results\n",
    "The result of calculation is a value of call option which should decrease a initial value of a payment: 1000 - 140 = 860.\n",
    "\n",
    "In the end two parties of the transaction mitigate risk:\n",
    "- Alfa (the seller) is entitled to exercise _\"call option\"_ in the event, the value of the HTVI exceeds 1000,\n",
    "- Beta (the buyer) decreases the initial payment for the HTVI.\n",
    "\n",
    "## Caveats\n",
    "\n",
    "__Q. Is this formula well known for tax authorities?__\n",
    "\n",
    "A. I don't think so.\n",
    "\n",
    "__Q. Is this aproach accepted by tax authorities?__\n",
    "\n",
    "A. I don't know.\n",
    "\n",
    "__Q. Ca I use this manual as tax advise?__\n",
    "\n",
    "A. Certainly not 😉\n",
    "\n",
    "__Q. Can I use this code?__\n",
    "\n",
    "A. Sure.\n",
    "\n",
    "## References\n",
    "\n",
    "Emmanuel Llinares, _Intangible Assets Valuation and High Uncertainty_ [link](https://www.nera.com/publications/archive/2011/intangible-assets-valuation-and-high-uncertainty.html)\n",
    "\n",
    "Pierino Ursone, _How to Calculate Options Prices and Their Greeks: Exploring the Black Scholes Model from Delta to Vega_ John Wiley & Sons."
   ]
  }
 ],
 "metadata": {
  "kernelspec": {
   "display_name": "Python 3",
   "language": "python",
   "name": "python3"
  },
  "language_info": {
   "codemirror_mode": {
    "name": "ipython",
    "version": 3
   },
   "file_extension": ".py",
   "mimetype": "text/x-python",
   "name": "python",
   "nbconvert_exporter": "python",
   "pygments_lexer": "ipython3",
   "version": "3.7.1"
  }
 },
 "nbformat": 4,
 "nbformat_minor": 2
}
